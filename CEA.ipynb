{
  "cells": [
    {
      "cell_type": "markdown",
      "metadata": {
        "id": "0W1R0VDOh_Fj"
      },
      "source": [
        "# Preprocessing the CEA data"
      ]
    },
    {
      "cell_type": "code",
      "execution_count": null,
      "metadata": {
        "id": "Jz-OqIpKiDNi"
      },
      "outputs": [],
      "source": [
        "# import python packages\n",
        "import numpy as np\n",
        "import pandas as pd\n",
        "import matplotlib.pyplot as plt\n",
        "from google.colab import drive\n",
        "from sklearn.impute import SimpleImputer\n",
        "from sklearn.preprocessing import OneHotEncoder\n",
        "from sklearn.model_selection import cross_val_score\n",
        "from sklearn import svm\n",
        "from sklearn.ensemble import RandomForestClassifier,BaggingClassifier\n",
        "import scipy.io as sio\n",
        "from datetime import datetime\n",
        "import seaborn as sns\n",
        "from copy import deepcopy\n",
        "from sklearn.inspection import permutation_importance"
      ]
    },
    {
      "cell_type": "code",
      "execution_count": null,
      "metadata": {
        "colab": {
          "base_uri": "https://localhost:8080/"
        },
        "id": "3Y8pCIo6EWTX",
        "outputId": "dfca7524-5546-43e0-94df-28ad8c43c459"
      },
      "outputs": [
        {
          "output_type": "stream",
          "name": "stdout",
          "text": [
            "Drive already mounted at /content/drive/; to attempt to forcibly remount, call drive.mount(\"/content/drive/\", force_remount=True).\n"
          ]
        }
      ],
      "source": [
        "drive.mount('/content/drive/')"
      ]
    },
    {
      "cell_type": "markdown",
      "metadata": {
        "id": "DT6b5FaejwPq"
      },
      "source": [
        "### 1- Load and read data"
      ]
    },
    {
      "cell_type": "code",
      "execution_count": null,
      "metadata": {
        "colab": {
          "base_uri": "https://localhost:8080/"
        },
        "id": "r8VJAFh3juSH",
        "outputId": "39151a8d-966a-4216-cbde-b210f851fce3"
      },
      "outputs": [
        {
          "output_type": "stream",
          "name": "stdout",
          "text": [
            "        Id  Id.1  Sex  AgeOK  Smoke  IBS  IBD  Diabetes  FAP  Lynch  ...  \\\n",
            "0        1     1    0     65    2.0    0    0         0    0    0.0  ...   \n",
            "1        2     2    0     77    0.0    0    0         0    0    0.0  ...   \n",
            "2        4     4    0     70    0.0    0    0         0    0    0.0  ...   \n",
            "3        9     9    1     67    2.0    0    0         0    0    0.0  ...   \n",
            "4       11    11    0     52    NaN    0    0         0    0    0.0  ...   \n",
            "...    ...   ...  ...    ...    ...  ...  ...       ...  ...    ...  ...   \n",
            "1540  3163  3163    0     47    0.0    0    0         0    0    0.0  ...   \n",
            "1541  3166  3166    0     54    0.0    0    0         1    0    0.0  ...   \n",
            "1542  3170  3170    0     53    1.0    0    0         0    0    0.0  ...   \n",
            "1543  3171  3171    0     53    1.0    0    0         0    0    0.0  ...   \n",
            "1544  3172  3172    0     57    0.0    0    0         0    0    0.0  ...   \n",
            "\n",
            "      ln_CeaOutcome32  ln_CeaOutcome33  ln_CeaOutcome34  ln_CeaOutcome35  \\\n",
            "0                 NaN              NaN              NaN              NaN   \n",
            "1                 NaN              NaN              NaN              NaN   \n",
            "2                 NaN              NaN              NaN              NaN   \n",
            "3                 NaN              NaN              NaN              NaN   \n",
            "4                 NaN              NaN              NaN              NaN   \n",
            "...               ...              ...              ...              ...   \n",
            "1540              NaN              NaN              NaN              NaN   \n",
            "1541              NaN              NaN              NaN              NaN   \n",
            "1542              NaN              NaN              NaN              NaN   \n",
            "1543         2.965273         3.015535         2.949688         2.912351   \n",
            "1544              NaN              NaN              NaN              NaN   \n",
            "\n",
            "      ln_CeaOutcome36  ln_CeaOutcome37  ln_CeaOutcome38  ln_CeaOutcome39  \\\n",
            "0                 NaN              NaN              NaN              NaN   \n",
            "1                 NaN              NaN              NaN              NaN   \n",
            "2                 NaN              NaN              NaN              NaN   \n",
            "3                 NaN              NaN              NaN              NaN   \n",
            "4                 NaN              NaN              NaN              NaN   \n",
            "...               ...              ...              ...              ...   \n",
            "1540              NaN              NaN              NaN              NaN   \n",
            "1541              NaN              NaN              NaN              NaN   \n",
            "1542              NaN              NaN              NaN              NaN   \n",
            "1543          2.76001         2.766319         2.833213         2.995732   \n",
            "1544              NaN              NaN              NaN              NaN   \n",
            "\n",
            "      ln_CeaOutcome40  IdCol  \n",
            "0                 NaN      1  \n",
            "1                 NaN      2  \n",
            "2                 NaN      4  \n",
            "3                 NaN      9  \n",
            "4                 NaN     11  \n",
            "...               ...    ...  \n",
            "1540              NaN   3163  \n",
            "1541              NaN   3166  \n",
            "1542              NaN   3170  \n",
            "1543         2.928524   3171  \n",
            "1544              NaN   3172  \n",
            "\n",
            "[1545 rows x 308 columns]\n"
          ]
        }
      ],
      "source": [
        "path = r\"/content/drive/MyDrive/CEA/\"\n",
        "data = pd.read_excel(path + 'TrainingCEA3PatsWide.xlsx')\n",
        "print(data)\n",
        "savePath = r\"/content/drive/MyDrive/CEA/Results/\"\n"
      ]
    },
    {
      "cell_type": "markdown",
      "metadata": {
        "id": "anoeQvbol02E"
      },
      "source": [
        "### 2- Select some of the features"
      ]
    },
    {
      "cell_type": "code",
      "execution_count": null,
      "metadata": {
        "id": "t4dqTQ2uPTOv"
      },
      "outputs": [],
      "source": [
        "def select_features(total_measurements, clinical_features, training_data, save_path):\n",
        "    \"\"\"\n",
        "\n",
        "\n",
        "    Parameters\n",
        "    ----------\n",
        "    total_measurements : int\n",
        "        the number of CEA measurements.\n",
        "    clinical_features : list\n",
        "        the name of static features that should be selected and labels.\n",
        "    training_data: dataframe\n",
        "        the original data\n",
        "    save_path: string\n",
        "      the path to the results\n",
        "\n",
        "    Returns\n",
        "    -------\n",
        "    all_features: data frame\n",
        "      a dataframe with the selected features (dynamic (i.e., CEA measurements), static (i.e., demographic data), and time (i.e., measurements dates)), and labels.\n",
        "\n",
        "    \"\"\"\n",
        "\n",
        "    cea_features = ['CeaOutcome'+str(i+1) for i in range(total_measurements)]\n",
        "    cea_dates = ['CeaDate'+str(i+1) for i in range(total_measurements)]\n",
        "\n",
        "    df = training_data[clinical_features] ## include clinical/demographic features (age, sex, ...)\n",
        "    df1 = training_data[cea_features] ## include CEA measurements\n",
        "    df2 = training_data[cea_dates] ## include the CEA dates\n",
        "\n",
        "    all_features = pd.concat([df,df1,df2],axis=1) ## extract the clinical/demographic, CEA, and CEA dates from the dataframe\n",
        "    all_features = all_features.set_index('Id') ## replace the index with patients' Id\n",
        "    ### remove the patients who do not have ordered CEA measurements (the order of dates is not correct)\n",
        "    all_features.drop(all_features.index[192] , inplace = True)\n",
        "    all_features.drop(all_features.index[220], inplace = True)\n",
        "    all_features.drop(all_features.index[1114], inplace = True)\n",
        "    all_features.drop(all_features.index[1422], inplace = True)\n",
        "    all_features.to_excel(save_path + 'trainingData.xlsx')\n",
        "    return all_features"
      ]
    },
    {
      "cell_type": "markdown",
      "metadata": {
        "id": "bSl5bsYBf85Q"
      },
      "source": [
        "### Remove CEA measurements before final operation: These measurements values could be large. We aim to model the changes of CEA after operation\n",
        "\n"
      ]
    },
    {
      "cell_type": "code",
      "execution_count": null,
      "metadata": {
        "id": "_uwpvha_Qoyr"
      },
      "outputs": [],
      "source": [
        "\n",
        "def select_CeaOutCome_Date(total_measurements, all_features):\n",
        "  \"\"\"\n",
        "    Parameters\n",
        "    ----------\n",
        "    total_measurements : int\n",
        "        the number of CEA measurements.\n",
        "    all_features : dataframe\n",
        "        a dataframe contains both clinical/demographic features and CEA measurements and dates.\n",
        "\n",
        "    Returns\n",
        "    -------\n",
        "    CeaMeaDates: dataframe\n",
        "      a dataframe with the selected features (dynamic (i.e., CEA measurements) and time (i.e., measurements dates)).\n",
        "\n",
        "  \"\"\"\n",
        "\n",
        "##1. select the CeaOutcome and CeaDate from the allFeatures (CeaMDates)\n",
        "  cea_features = ['CeaOutcome'+str(i+1) for i in range(total_measurements)]\n",
        "  cea_dates = ['CeaDate'+str(i+1) for i in range(total_measurements)]\n",
        "  df1 = all_features[cea_features]\n",
        "  df2 = all_features[cea_dates]\n",
        "  temp = []\n",
        "  for i in range(total_measurements):\n",
        "    temp.append(pd.concat([df1.loc[:,\"CeaOutcome\" + str(i+1)],df2.loc[:,\"CeaDate\" + str(i+1)]],axis=1))\n",
        "    paired_concatenatedList = np.concatenate(temp,axis=1)\n",
        "    columns_name = []\n",
        "  for i in range(total_measurements):\n",
        "    columns_name.append('CeaOutcome' + str(i+1))\n",
        "    columns_name.append('CeaDate' + str(i+1))\n",
        "\n",
        "  cl = np.vstack(columns_name)\n",
        "  cl = cl.T\n",
        "  CeaMeaDates = pd.DataFrame (paired_concatenatedList,columns = list(cl))\n",
        "  return CeaMeaDates\n",
        "\n",
        "def remove_CeaOutCome_AfterFinalOp(total_measurements, all_features):\n",
        "  \"\"\"\n",
        "    Parameters\n",
        "    ----------\n",
        "    total_measurements : int\n",
        "      the number of CEA measurements.\n",
        "    CeaMeaDates: dataframe\n",
        "      a dataframe with the selected features (dynamic (i.e., CEA measurements) and time (i.e., measurements dates)).\n",
        "    all_features : dataframe\n",
        "      a dataframe contains both clinical/demographic features and CEA measurements and dates.\n",
        "\n",
        "    Returns\n",
        "    -------\n",
        "    dfShifted: dataframe\n",
        "      a dataframe with the selected features (dynamic (i.e., CEA measurements)\n",
        "      and time (i.e., measurements dates)) after removing CEAs before final operation\n",
        "  \"\"\"\n",
        "  CeaMeaDates = select_CeaOutCome_Date (total_measurements, all_features)\n",
        "  ## 2. Extract the final operation from the allFeatures\n",
        "  ## 3. reserve an array to save the converted operation date (to time) and cea measurement date (to time)\n",
        "  operationTime = np.zeros(CeaMeaDates.shape[0],)\n",
        "  CeaTime = np.zeros([CeaMeaDates.shape[0],total_measurements])\n",
        "  ## reserve an array (index) to save the cea measurements before final operation\n",
        "  index = np.int16(np.zeros([CeaMeaDates.shape[0],1]))\n",
        "  ## 4. convert final operation date and cea measurmeent date to time\n",
        "  ## 5. compare two times for all measurements and patients. If the cea measurement date is less than final operation date\n",
        "  ## save the index for that patient in index array\n",
        "  for j in range(CeaMeaDates.shape[0]): ## j is a counter for patient numbers\n",
        "      if (type(all_features['DateFinalOperation'].iloc[j]) != pd._libs.tslibs.nattype.NaTType):\n",
        "          operationTime[j] = datetime.timestamp(all_features['DateFinalOperation'].iloc[j])\n",
        "      for i in range(total_measurements): ## i is the counter for cea measurements\n",
        "          if (type(CeaMeaDates['CeaDate' + str(i+1)].squeeze().iloc[j]) != pd._libs.tslibs.nattype.NaTType):\n",
        "              CeaTime[j,i] = datetime.timestamp(CeaMeaDates['CeaDate' + str(i+1)].squeeze().iloc[j])\n",
        "              if (CeaTime[j,i]<= operationTime[j]):\n",
        "                  index[j] = index[j] + 1\n",
        "\n",
        "  ## 6. shift the elements of dataframe based on the index array (i.e, remove the measurements that have\n",
        "  ##been done before the final operation)\n",
        "  ## features (cea measurements) of first patient was shifted and saved in df\n",
        "  df = CeaMeaDates.loc[0].shift(-2*index[0,0]) ## -2 (to remove two elements, ceaDate and ceaOutput)\n",
        "  i = 1\n",
        "  while(i<CeaMeaDates.shape[0]):\n",
        "      shiftedCea = CeaMeaDates.loc[i].shift(-2*index[i,0])\n",
        "      df=pd.concat([df,shiftedCea],axis=1) ## concatenate a serie to a dataframe to form the whole dataframe\n",
        "      i = i+1\n",
        "  dfShifted = df.T ## transpose df after removing measurements\n",
        "\n",
        "  return dfShifted\n"
      ]
    },
    {
      "cell_type": "markdown",
      "metadata": {
        "id": "OS9KuU-Uh2IB"
      },
      "source": [
        "### Remove the CEA measurements after recurrence"
      ]
    },
    {
      "cell_type": "code",
      "execution_count": null,
      "metadata": {
        "id": "X98SK4xsCHmE"
      },
      "outputs": [],
      "source": [
        "def remove_CeaOutcome_AfterRecurrence(total_measurements, dfShifted, all_features):\n",
        "  \"\"\"\n",
        "    Parameters\n",
        "    ----------\n",
        "    total_measurements : int\n",
        "        the number of CEA measurements.\n",
        "    dfShifted: dataframe\n",
        "      a dataframe with the selected features (dynamic (i.e., CEA measurements)\n",
        "      and time (i.e., measurements dates)) after removing CEAs before final operation\n",
        "    all_features : dataframe\n",
        "        a dataframe contains both clinical/demographic features and CEA measurements and dates.\n",
        "\n",
        "    Returns\n",
        "    -------\n",
        "    dfShifted: dataframe\n",
        "      a dataframe with CEA measurements removed after recurrence\n",
        "\n",
        "  \"\"\"\n",
        "  recurrence = all_features.index[all_features['Recurrence'] == True].to_numpy()\n",
        "  recurrenceDate = all_features['DateRecurrence'][recurrence]\n",
        "  cutoffIndex_recurrence = np.zeros([recurrence.shape[0],]) ## the cut-off point when the CEA measurements occur after recurrence\n",
        "  id_ = all_features.index\n",
        "  dfShifted = dfShifted.set_index(id_)\n",
        "  recurrenceTime = np.zeros(recurrenceDate.shape[0],) ## an array to save the converted recurrence date to time\n",
        "  CeaTime = np.zeros([recurrence.shape[0],total_measurements])\n",
        "  k = 0\n",
        "  for j in range(recurrence.shape[0]): ## j is a counter for patient numbers\n",
        "      if (type(all_features['DateRecurrence'].loc[recurrence[j]]) != pd._libs.tslibs.nattype.NaTType):\n",
        "          recurrenceTime[j] = datetime.timestamp(all_features['DateRecurrence'].loc[recurrence[j]])\n",
        "      for i in range(total_measurements): ## i is the counter for cea measurements\n",
        "          if (type(dfShifted['CeaDate' + str(i+1)].squeeze().loc[recurrence[j]]) != pd._libs.tslibs.nattype.NaTType):\n",
        "              CeaTime[j,i] = datetime.timestamp(dfShifted['CeaDate' + str(i+1)].squeeze().loc[recurrence[j]])\n",
        "              if (CeaTime[j,i]> recurrenceTime[j]):\n",
        "                  cutoffIndex_recurrence[j] = i\n",
        "                  dfShifted.loc[recurrence[j],'CeaDate' + str(i+1)] = pd.NaT\n",
        "                  dfShifted.loc[recurrence[j],'CeaOutcome' + str(i+1)] = np.NaN\n",
        "\n",
        "  return dfShifted\n"
      ]
    },
    {
      "cell_type": "markdown",
      "metadata": {
        "id": "rNxxEZD5SBlC"
      },
      "source": [
        "### Preprocess features"
      ]
    },
    {
      "cell_type": "code",
      "execution_count": null,
      "metadata": {
        "id": "--qSUiNpFKz8"
      },
      "outputs": [],
      "source": [
        "def preprocessing(features, featuresType, combinedFeatures):\n",
        "    \"\"\"\n",
        "    inputs:\n",
        "          features: a numpy array (initialized with demographic (or equivalently static features), then it will be filled with dynamic features (i.e., CEA measurements))\n",
        "          featuresType: List (initialized with the demographic (or equivalently static features), then it will be filled with dynamic features types)\n",
        "          combinedFeatures: List ()\n",
        "    outputs:\n",
        "          preprocessedFeatures: List\n",
        "    Description:\n",
        "          This function preprocess the data:\n",
        "          1- imput the missing values: if the feature type is binary or categorical, impute them based on the most frequent strategy\n",
        "          if not, impute using the median of values in each feature vector\n",
        "          2- if binary value is equak to zero make it -1, if the feature type is categotical apply one-hot-encoder\n",
        "          3- append the features to the preprocessedFeatures list\n",
        "    \"\"\"\n",
        "\n",
        "    preprocessedFeatures = []\n",
        "\n",
        "    for f, feature in enumerate(combinedFeatures):\n",
        "\n",
        "        #feature = staticFeatures[f]\n",
        "        if featuresType[f] == 'bin':\n",
        "            imputer = SimpleImputer(strategy='most_frequent')\n",
        "            features[:,f:f+1] = imputer.fit_transform(features[:,f:f+1])\n",
        "            features[features[:,f]==0,f] = -1\n",
        "            preprocessedFeatures.append(features[:,f:f+1])\n",
        "        elif featuresType[f] == 'con':\n",
        "            imputer = SimpleImputer(strategy='median')\n",
        "            features[:,f:f+1] = imputer.fit_transform(features[:,f:f+1])\n",
        "            preprocessedFeatures.append(features[:,f:f+1])\n",
        "        elif featuresType[f] == 'cat':\n",
        "            imputer = SimpleImputer(strategy='most_frequent')\n",
        "            features[:,f:f+1] = imputer.fit_transform(features[:,f:f+1])\n",
        "            ohe = OneHotEncoder(sparse = False) ## return an array\n",
        "            temp = ohe.fit_transform(features[:,f:f+1])\n",
        "            preprocessedFeatures.append(temp)\n",
        "            # features = np.concatenate([features[:,0:f], temp, features[:,f+1:]], axis=1)\n",
        "\n",
        "    return preprocessedFeatures\n"
      ]
    },
    {
      "cell_type": "markdown",
      "metadata": {
        "id": "nNwQQ3JJIdnA"
      },
      "source": [
        "### define the classifier and fit it on data"
      ]
    },
    {
      "cell_type": "code",
      "execution_count": null,
      "metadata": {
        "id": "S_zJ8WhLFXnA"
      },
      "outputs": [],
      "source": [
        "def classifier(X, y, m, s):\n",
        "    \"\"\"\n",
        "      Inputs:\n",
        "        X: numpy array (preprocessed data)\n",
        "        y: numpy array (labels)\n",
        "        m: list (to keep the mean scores)\n",
        "        s: list (to keep std scores)\n",
        "      outputs:\n",
        "        m , s\n",
        "      Description:\n",
        "        this function apply a classifier on data and evaluate the performance\n",
        "        model selection is 10-fold cross-validation\n",
        "    \"\"\"\n",
        "    ## train the classifier and evalute the result\n",
        "    clf = RandomForestClassifier()\n",
        "    ## feature importance\n",
        "    clf.fit(X,y)\n",
        "    feature_names = [f\"feature {i}\" for i in range(X.shape[1])]\n",
        "    #base_estimator = RandomForestClassifier(class_weight='balanced')\n",
        "    #clf = BaggingClassifier(base_estimator=base_estimator)\n",
        "\n",
        "    importances = clf.feature_importances_\n",
        "    std = np.std([tree.feature_importances_ for tree in clf.estimators_], axis=0)\n",
        "    forest_importances = pd.Series(importances, index=feature_names)\n",
        "\n",
        "    plt.figure(figsize= (16,16))\n",
        "    fig, ax = plt.subplots()\n",
        "    forest_importances.plot.bar(yerr=std, ax=ax)\n",
        "    ax.set_title(\"Feature importances using MDI\")\n",
        "    ax.set_ylabel(\"Mean decrease in impurity\")\n",
        "    fig.tight_layout()\n",
        "    plt.savefig(savePath + 'feature_importance_MDI' + '.png')\n",
        "\n",
        "    result = permutation_importance(\n",
        "    clf, X, y, n_repeats=10, random_state=42, n_jobs=2)\n",
        "    forest_importances = pd.Series(result.importances_mean, index=feature_names)\n",
        "    plt.figure(figsize=(16,16))\n",
        "    fig, ax = plt.subplots()\n",
        "    forest_importances.plot.bar(yerr=result.importances_std, ax=ax)\n",
        "    ax.set_title(\"Feature importances using permutation on full model\")\n",
        "    ax.set_ylabel(\"Mean accuracy decrease\")\n",
        "    fig.tight_layout()\n",
        "    plt.show()\n",
        "    plt.savefig(savePath + 'feature_importance_permutation' + '.png')\n",
        "\n",
        "    ## computing the roc_auc\n",
        "    scores = cross_val_score(clf, X, y, cv=10, scoring = \"roc_auc\")\n",
        "    print('Mean:%.2f, std:%.2f' %(scores.mean(), scores.std())) ## compute the mean and the std of roc_auc\n",
        "    mean, std = scores.mean(), scores.std()\n",
        "    m.append(np.round(mean,2))\n",
        "    s.append(np.round(std, 2))\n",
        "    sio.savemat(savePath + 'mean_val_scores_' + str(numCEA) + '.mat',{'mean':m, 'std':s})\n",
        "    return m, s"
      ]
    },
    {
      "cell_type": "markdown",
      "metadata": {
        "id": "NHOXLFLPIhsL"
      },
      "source": [
        "### Plot the mean of scores"
      ]
    },
    {
      "cell_type": "code",
      "execution_count": null,
      "metadata": {
        "id": "BfZzu9bIyPJW"
      },
      "outputs": [],
      "source": [
        "def plot(m, savePath):\n",
        "    \"\"\"\n",
        "\n",
        "    Parameters\n",
        "    ----------\n",
        "    m : an array with the mean of roc_auc\n",
        "\n",
        "\n",
        "    Returns\n",
        "    -------\n",
        "    None.\n",
        "\n",
        "    \"\"\"\n",
        "    m = np.stack(m)\n",
        "    plt.figure()\n",
        "    plt.xlim([0, 14]) ## the results on 13 first CEA measurements (added one by one) + the results of classifier on staticFeatures\n",
        "    plt.plot(m, linestyle='--', marker='o', color='b')\n",
        "    plt.xticks(ticks = range(14))\n",
        "    plt.xlabel('CEA measurements')\n",
        "    plt.ylabel('roc_auc') ## mean of roc_auc\n",
        "    plt.savefig(savePath + 'Accuracy_based_13ceaMeasurements' + '.png')\n"
      ]
    },
    {
      "cell_type": "markdown",
      "metadata": {
        "id": "OvjZ3uzZIlhz"
      },
      "source": [
        "### Count the number of NaN values"
      ]
    },
    {
      "cell_type": "code",
      "execution_count": null,
      "metadata": {
        "id": "rSjoTd6MGn8s"
      },
      "outputs": [],
      "source": [
        "def count_NaNs(measurements_num, all_features):\n",
        "    \"\"\"\n",
        "    Parameters\n",
        "    ----------\n",
        "    measurements_num : int\n",
        "        the number of CEA measurements included in the analysis.\n",
        "    all_features:\n",
        "        a combination of static (clinical/demographic) data and dynamic (CEA measurements)\n",
        "    Returns\n",
        "    -------\n",
        "    None.\n",
        "\n",
        "    Description:\n",
        "       this function checks how many missing/non-missing values exist for each patient and generally all patients\n",
        "\n",
        "    \"\"\"\n",
        "    ceaMeasurements = ['CeaOutcome' + str(i+1) for i in range(measurements_num)]\n",
        "    ceaDataframe = all_features[ceaMeasurements] ## select the columns with cea measurements\n",
        "    numMissing = ceaDataframe.isnull().sum(axis=0) ## count the number of missing values for each patient\n",
        "    percentMissing = (numMissing.to_numpy())/all_features.shape[0] ## convert the serie data type to a numpy array\n",
        "    percentnumNonMiss = (all_features.shape[0] - (numMissing.to_numpy()))/all_features.shape[0]\n",
        "    # print('percentMissing:%d, Max:%d, Median:%d, Mean:%d' %(np.min(numMissing),np.max(numMissing),np.median(numMissing),np.mean(numMissing)))\n",
        "    return percentMissing, percentnumNonMiss"
      ]
    },
    {
      "cell_type": "markdown",
      "metadata": {
        "id": "Vq41Rj-9IrVw"
      },
      "source": [
        "### Plot the percentage of non-missing values"
      ]
    },
    {
      "cell_type": "code",
      "execution_count": null,
      "metadata": {
        "id": "sUvXTMNWHDHj"
      },
      "outputs": [],
      "source": [
        "# plot the percentage of available measurments for all patients\n",
        "def plot_NaNs(percentnumNonMiss,savePath):\n",
        "    plt.figure(figsize= (16,16))\n",
        "    plt.plot(percentnumNonMiss, linestyle='--', marker='o', color='b')\n",
        "    plt.xticks(ticks = range(40)) ## total number of CEA measurements is 40\n",
        "    plt.xlabel('CEA measurements')\n",
        "    plt.ylabel('Percentage of measurements')\n",
        "    #plt.show()\n",
        "    plt.savefig(savePath + 'Percentage of NaN_Measurements' + '.png')\n"
      ]
    },
    {
      "cell_type": "markdown",
      "metadata": {
        "id": "TdK8yiIQIxdf"
      },
      "source": [
        "### 1. Define the variables and set the values\n",
        "### 2. Call the select_featuers function (to select only needed features from the original data)\n",
        "### 3. Call the functions to count missing and non-missing values and plot them"
      ]
    },
    {
      "cell_type": "code",
      "execution_count": null,
      "metadata": {
        "colab": {
          "base_uri": "https://localhost:8080/",
          "height": 1000
        },
        "id": "ox2u0nODHQ0e",
        "outputId": "08697f56-70cd-4cc4-8a0c-2b9028d935e5"
      },
      "outputs": [
        {
          "output_type": "stream",
          "name": "stdout",
          "text": [
            "      Sex  AgeOK  Smoke  IBS  IBD  Diabetes  FAP  Lynch  Cardiaal  Organ  ...  \\\n",
            "Id                                                                        ...   \n",
            "1       0     65    2.0    0    0         0    0    0.0         0      0  ...   \n",
            "2       0     77    0.0    0    0         0    0    0.0         0      0  ...   \n",
            "4       0     70    0.0    0    0         0    0    0.0         0      1  ...   \n",
            "9       1     67    2.0    0    0         0    0    0.0         1      0  ...   \n",
            "11      0     52    NaN    0    0         0    0    0.0         0      0  ...   \n",
            "...   ...    ...    ...  ...  ...       ...  ...    ...       ...    ...  ...   \n",
            "3163    0     47    0.0    0    0         0    0    0.0         0      0  ...   \n",
            "3166    0     54    0.0    0    0         1    0    0.0         0      1  ...   \n",
            "3170    0     53    1.0    0    0         0    0    0.0         0      0  ...   \n",
            "3171    0     53    1.0    0    0         0    0    0.0         0      1  ...   \n",
            "3172    0     57    0.0    0    0         0    0    0.0         0      0  ...   \n",
            "\n",
            "      CeaDate31  CeaDate32  CeaDate33  CeaDate34  CeaDate35  CeaDate36  \\\n",
            "Id                                                                       \n",
            "1           NaT        NaT        NaT        NaT        NaT        NaT   \n",
            "2           NaT        NaT        NaT        NaT        NaT        NaT   \n",
            "4           NaT        NaT        NaT        NaT        NaT        NaT   \n",
            "9           NaT        NaT        NaT        NaT        NaT        NaT   \n",
            "11          NaT        NaT        NaT        NaT        NaT        NaT   \n",
            "...         ...        ...        ...        ...        ...        ...   \n",
            "3163        NaT        NaT        NaT        NaT        NaT        NaT   \n",
            "3166        NaT        NaT        NaT        NaT        NaT        NaT   \n",
            "3170        NaT        NaT        NaT        NaT        NaT        NaT   \n",
            "3171 2018-09-11 2018-10-23 2018-12-04 2018-12-24 2019-03-05 2019-03-26   \n",
            "3172        NaT        NaT        NaT        NaT        NaT        NaT   \n",
            "\n",
            "      CeaDate37  CeaDate38  CeaDate39  CeaDate40  \n",
            "Id                                                \n",
            "1           NaT        NaT        NaT        NaT  \n",
            "2           NaT        NaT        NaT        NaT  \n",
            "4           NaT        NaT        NaT        NaT  \n",
            "9           NaT        NaT        NaT        NaT  \n",
            "11          NaT        NaT        NaT        NaT  \n",
            "...         ...        ...        ...        ...  \n",
            "3163        NaT        NaT        NaT        NaT  \n",
            "3166        NaT        NaT        NaT        NaT  \n",
            "3170        NaT        NaT        NaT        NaT  \n",
            "3171 2019-04-16 2019-05-17 2019-06-06 2019-07-11  \n",
            "3172        NaT        NaT        NaT        NaT  \n",
            "\n",
            "[1541 rows x 108 columns]\n",
            "      Sex  AgeOK  Smoke  IBS  IBD  Diabetes  FAP  Lynch  Cardiaal  Organ  ...  \\\n",
            "Id                                                                        ...   \n",
            "1       0     65    2.0    0    0         0    0    0.0         0      0  ...   \n",
            "2       0     77    0.0    0    0         0    0    0.0         0      0  ...   \n",
            "4       0     70    0.0    0    0         0    0    0.0         0      1  ...   \n",
            "9       1     67    2.0    0    0         0    0    0.0         1      0  ...   \n",
            "11      0     52    NaN    0    0         0    0    0.0         0      0  ...   \n",
            "...   ...    ...    ...  ...  ...       ...  ...    ...       ...    ...  ...   \n",
            "3163    0     47    0.0    0    0         0    0    0.0         0      0  ...   \n",
            "3166    0     54    0.0    0    0         1    0    0.0         0      1  ...   \n",
            "3170    0     53    1.0    0    0         0    0    0.0         0      0  ...   \n",
            "3171    0     53    1.0    0    0         0    0    0.0         0      1  ...   \n",
            "3172    0     57    0.0    0    0         0    0    0.0         0      0  ...   \n",
            "\n",
            "      CeaOutcome36  CeaDate36  CeaOutcome37  CeaDate37  CeaOutcome38  \\\n",
            "Id                                                                     \n",
            "1              NaN        NaT           NaN        NaT           NaN   \n",
            "2              NaN        NaT           NaN        NaT           NaN   \n",
            "4              NaN        NaT           NaN        NaT           NaN   \n",
            "9              NaN        NaT           NaN        NaT           NaN   \n",
            "11             NaN        NaT           NaN        NaT           NaN   \n",
            "...            ...        ...           ...        ...           ...   \n",
            "3163           NaN        NaT           NaN        NaT           NaN   \n",
            "3166           NaN        NaT           NaN        NaT           NaN   \n",
            "3170           NaN        NaT           NaN        NaT           NaN   \n",
            "3171           NaN        NaT           NaN        NaT           NaN   \n",
            "3172           NaN        NaT           NaN        NaT           NaN   \n",
            "\n",
            "      CeaDate38  CeaOutcome39  CeaDate39  CeaOutcome40  CeaDate40  \n",
            "Id                                                                 \n",
            "1           NaT           NaN        NaT           NaN        NaT  \n",
            "2           NaT           NaN        NaT           NaN        NaT  \n",
            "4           NaT           NaN        NaT           NaN        NaT  \n",
            "9           NaT           NaN        NaT           NaN        NaT  \n",
            "11          NaT           NaN        NaT           NaN        NaT  \n",
            "...         ...           ...        ...           ...        ...  \n",
            "3163        NaT           NaN        NaT           NaN        NaT  \n",
            "3166        NaT           NaN        NaT           NaN        NaT  \n",
            "3170        NaT           NaN        NaT           NaN        NaT  \n",
            "3171        NaT           NaN        NaT           NaN        NaT  \n",
            "3172        NaT           NaN        NaT           NaN        NaT  \n",
            "\n",
            "[1541 rows x 108 columns]\n"
          ]
        },
        {
          "output_type": "execute_result",
          "data": {
            "text/plain": [
              "24"
            ]
          },
          "metadata": {},
          "execution_count": 57
        },
        {
          "output_type": "display_data",
          "data": {
            "text/plain": [
              "<Figure size 1152x1152 with 1 Axes>"
            ],
            "image/png": "[encoded data removed]"
          },
          "metadata": {
            "needs_background": "light"
          }
        }
      ],
      "source": [
        "totalMeasurements = 40 ## total number of CEA measurements\n",
        "clinicalFeatures_labels = ['Id','Sex', 'AgeOK', 'Smoke','IBS','IBD','Diabetes','FAP', ## all needed clinical (static features, dates, Id of patients, and labels)\n",
        "                  'Lynch','Cardiaal','Organ', 'cTNM', 'Neoadj_Rect', 'ycTNM', 'SynchMeta', 'LocationMeta', 'PalliativeSetting',\n",
        "                  'p(y)TNM','Tumor', 'StadiumCancer', 'ResectionMargeFree', 'LymfInvasion', 'AngioInvasion',\n",
        "                   'AdjuvChemo', 'AdjuvRadio', 'Recurrence','DateRecurrence','Survival','DateFinalOperation']\n",
        "numCEA = 13 ## 13 first measurements have less NaNs (majority of patients have 13 measurements).\n",
        "staticFeatures = ['Sex', 'AgeOK', 'Smoke','IBS','IBD','Diabetes','FAP', ## all needed clinical (static features, dates, Id of patients, and labels)\n",
        "                  'Lynch','Cardiaal','Organ', 'cTNM', 'Neoadj_Rect', 'ycTNM', 'SynchMeta', 'LocationMeta', 'PalliativeSetting',\n",
        "                  'p(y)TNM','Tumor', 'StadiumCancer', 'ResectionMargeFree', 'LymfInvasion', 'AngioInvasion',\n",
        "                   'AdjuvChemo', 'AdjuvRadio'] ## static features to be included in the analysis\n",
        "staticFeaturesType = ['bin','con','cat','bin','bin','bin','bin','bin', ## type of static features (needed for preprocessing)\n",
        "                          'bin','bin', 'cat', 'cat', 'cat', 'bin','bin', 'bin','cat','cat','cat','bin','bin','bin','bin','bin']\n",
        "dynamicFeatures = ['CeaOutcome' + str(i+1) for i in range(numCEA)] ## extract dynamic features (numCEA showes how many dynamic features are selected)\n",
        "dynamicFeaturesType = ['con' for i in range(numCEA)] ## the CEA measurements are continuos\n",
        "targets = ['Recurrence'] ## if the patient has recurrence 1, otherwise 0\n",
        "allFeatures = select_features(totalMeasurements, clinicalFeatures_labels, data, savePath) ## all features (included dynamic and static features,target, dates,...)\n",
        "print(allFeatures)\n",
        "## remove the CEA measurements before the final operation\n",
        "removedFO = remove_CeaOutCome_AfterFinalOp(totalMeasurements, allFeatures)\n",
        "## remove CEAs after the recurrence\n",
        "removedRecurrence = remove_CeaOutcome_AfterRecurrence(totalMeasurements, removedFO, allFeatures)\n",
        "removedRecurrence.columns = ['CeaOutcome1', 'CeaDate1','CeaOutcome2', 'CeaDate2','CeaOutcome3', 'CeaDate3','CeaOutcome4', 'CeaDate4','CeaOutcome5', 'CeaDate5','CeaOutcome6', 'CeaDate6',\n",
        "                     'CeaOutcome7', 'CeaDate7','CeaOutcome8', 'CeaDate8','CeaOutcome9', 'CeaDate9','CeaOutcome10', 'CeaDate10','CeaOutcome11', 'CeaDate11','CeaOutcome12', 'CeaDate12',\n",
        "                     'CeaOutcome13', 'CeaDate13','CeaOutcome14', 'CeaDate14','CeaOutcome15', 'CeaDate15','CeaOutcome16', 'CeaDate16','CeaOutcome17', 'CeaDate17','CeaOutcome18', 'CeaDate18',\n",
        "                     'CeaOutcome19', 'CeaDate19','CeaOutcome20', 'CeaDate20','CeaOutcome21', 'CeaDate21','CeaOutcome22', 'CeaDate22','CeaOutcome23', 'CeaDate23','CeaOutcome24', 'CeaDate24',\n",
        "                     'CeaOutcome25', 'CeaDate25','CeaOutcome26', 'CeaDate26','CeaOutcome27', 'CeaDate27','CeaOutcome28', 'CeaDate28','CeaOutcome29', 'CeaDate29','CeaOutcome30', 'CeaDate30',\n",
        "                     'CeaOutcome31', 'CeaDate31','CeaOutcome32', 'CeaDate32','CeaOutcome33', 'CeaDate33','CeaOutcome34', 'CeaDate34','CeaOutcome35', 'CeaDate35','CeaOutcome36', 'CeaDate36',\n",
        "                     'CeaOutcome37', 'CeaDate37','CeaOutcome38', 'CeaDate38','CeaOutcome39', 'CeaDate39','CeaOutcome40', 'CeaDate40']\n",
        "removedRecurrence.to_excel(savePath + 'trainingData_afterRemovingRecurrence.xlsx')\n",
        "finalDF = pd.concat([allFeatures[clinicalFeatures_labels[1:]],removedRecurrence],axis=1)\n",
        "print(finalDF)\n",
        "len(staticFeatures)\n",
        "percentMissing, percentnumNonMiss =count_NaNs(totalMeasurements, finalDF)\n",
        "plot_NaNs(percentnumNonMiss,savePath)\n",
        "len(staticFeatures)"
      ]
    },
    {
      "cell_type": "markdown",
      "metadata": {
        "id": "paGCyZjERxg_"
      },
      "source": [
        "## Set the values of parameteres:\n",
        "### 1. select the needed features and labels from the original data\n",
        "### 2. extract static and dynamic features\n",
        "### 3. preprocesss features\n",
        "### 4. employ a classifier to see the effect of adding static features and adding dynamic features one by one on the recurrece prediction/detection and evaluate the results\n",
        "### 5. plot the resulting scores\n"
      ]
    },
    {
      "cell_type": "code",
      "execution_count": null,
      "metadata": {
        "colab": {
          "base_uri": "https://localhost:8080/",
          "height": 1000
        },
        "id": "sXxRQFT3SCqs",
        "outputId": "cff9582e-fe89-4c3d-e177-1ea2a1ecd47b"
      },
      "outputs": [
        {
          "output_type": "stream",
          "name": "stdout",
          "text": [
            "['Sex', 'AgeOK', 'Smoke', 'IBS', 'IBD', 'Diabetes', 'FAP', 'Lynch', 'Cardiaal', 'Organ', 'cTNM', 'Neoadj_Rect', 'ycTNM', 'SynchMeta', 'LocationMeta', 'PalliativeSetting', 'p(y)TNM', 'Tumor', 'StadiumCancer', 'ResectionMargeFree', 'LymfInvasion', 'AngioInvasion', 'AdjuvChemo', 'AdjuvRadio']\n"
          ]
        },
        {
          "output_type": "display_data",
          "data": {
            "text/plain": [
              "<Figure size 1152x1152 with 0 Axes>"
            ]
          },
          "metadata": {}
        },
        {
          "output_type": "display_data",
          "data": {
            "text/plain": [
              "<Figure size 432x288 with 1 Axes>"
            ],
            "image/png": "[encoded data removed]"
          },
          "metadata": {
            "needs_background": "light"
          }
        },
        {
          "output_type": "display_data",
          "data": {
            "text/plain": [
              "<Figure size 1152x1152 with 0 Axes>"
            ]
          },
          "metadata": {}
        },
        {
          "output_type": "display_data",
          "data": {
            "text/plain": [
              "<Figure size 432x288 with 1 Axes>"
            ],
            "image/png": "[encoded data removed]"
          },
          "metadata": {
            "needs_background": "light"
          }
        },
        {
          "output_type": "stream",
          "name": "stdout",
          "text": [
            "Mean:0.63, std:0.06\n",
            "[[-1. 65.  0. ... -1. -1. -1.]\n",
            " [-1. 77.  1. ... -1. -1. -1.]\n",
            " [-1. 70.  1. ... -1. -1. -1.]\n",
            " ...\n",
            " [-1. 53.  0. ... -1. -1. -1.]\n",
            " [-1. 53.  0. ... -1. -1. -1.]\n",
            " [-1. 57.  1. ...  1. -1. -1.]]\n"
          ]
        },
        {
          "output_type": "display_data",
          "data": {
            "text/plain": [
              "<Figure size 432x288 with 0 Axes>"
            ]
          },
          "metadata": {}
        },
        {
          "output_type": "display_data",
          "data": {
            "text/plain": [
              "<Figure size 432x288 with 1 Axes>"
            ],
            "image/png": "[encoded data removed]"
          },
          "metadata": {
            "needs_background": "light"
          }
        },
        {
          "output_type": "display_data",
          "data": {
            "text/plain": [
              "<Figure size 432x288 with 1 Axes>"
            ],
            "image/png": "[encoded data removed]"
          },
          "metadata": {
            "needs_background": "light"
          }
        },
        {
          "output_type": "display_data",
          "data": {
            "text/plain": [
              "<Figure size 432x288 with 1 Axes>"
            ],
            "image/png": "[encoded data removed]"
          },
          "metadata": {
            "needs_background": "light"
          }
        },
        {
          "output_type": "display_data",
          "data": {
            "text/plain": [
              "<Figure size 432x288 with 1 Axes>"
            ],
            "image/png": "[encoded data removed]"
          },
          "metadata": {
            "needs_background": "light"
          }
        }
      ],
      "source": [
        "combined_StaticDynamic = []\n",
        "combined_StaticDynamicType = []\n",
        "combined_StaticDynamic = deepcopy(staticFeatures) ## staticFeatures are copied in a new list that will contain both dynamic and static features\n",
        "print (combined_StaticDynamic)\n",
        "combined_StaticDynamicType = deepcopy(staticFeaturesType) ## staticFeatures types are copied in a new list that will contain both dynamic and static features types.\n",
        "m = []\n",
        "s = []\n",
        "numCEA = 0\n",
        "for i in range(numCEA+1):\n",
        "    ### the dynamic data (cea measurements are added to the static data one by one)\n",
        "    featureMatrix = finalDF[combined_StaticDynamic].to_numpy() ## convert dataframe to a numpy array\n",
        "    preprocessedFeatures = preprocessing(featureMatrix, combined_StaticDynamicType, combined_StaticDynamic) ## preprocess data\n",
        "    X = np.concatenate(preprocessedFeatures,axis=1) ## preprocessed features are concatenated to form the X array (feature matrix)\n",
        "    y = finalDF[targets].to_numpy().squeeze() ## convert targets to a numpy array\n",
        "    m, s = classifier(X, y, m, s) ## employ classifer on the preprocessed features (in the first run i.e., i=0, only staticFeatures are fed to the classifer)\n",
        "    if (i == numCEA):\n",
        "        break\n",
        "    else:\n",
        "        combined_StaticDynamic.append(dynamicFeatures[i]) ## until i is equal to numCEA, add CEA measurements one by one to the combined_StaticDynamic and repeat the procedure\n",
        "        combined_StaticDynamicType.append(dynamicFeaturesType[i]) ## until i is equal to numCEA, add the type of CEA measurements one by one to the combined_StaticDynamicType and repeat the procedure\n",
        "print (X)\n",
        "plot(m, savePath)\n",
        "for i in range(3):\n",
        "    fig, ax = plt.subplots()\n",
        "    sns.boxplot(x='Recurrence',y='CeaOutcome' + str(i+1),data=finalDF, showfliers = False)\n",
        "    plt.savefig(savePath + 'BoxPlot_Recurrence_vs_noneRecurrence' + 'CeaOutcome' + str(i+1)+'.png')\n",
        "\n",
        "#print(featureMatrix.shape[1])\n",
        "#print(X.shape[1])\n",
        "#print(len(preprocessedFeatures))\n",
        "#print(preprocessedFeatures)\n",
        "#print(combined_StaticDynamic)\n",
        "#print(len(combined_StaticDynamicType))\n",
        "#%%\n"
      ]
    }
  ],
  "metadata": {
    "colab": {
      "provenance": [],
      "authorship_tag": "ABX9TyMLWj0iJAiWXlteRky6A0m1"
    },
    "kernelspec": {
      "display_name": "Python 3",
      "name": "python3"
    },
    "language_info": {
      "name": "python"
    }
  },
  "nbformat": 4,
  "nbformat_minor": 0
}